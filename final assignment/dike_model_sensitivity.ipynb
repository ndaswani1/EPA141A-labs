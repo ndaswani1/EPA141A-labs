{
 "cells": [
  {
   "cell_type": "code",
   "execution_count": 11,
   "id": "initial_id",
   "metadata": {
    "collapsed": true,
    "ExecuteTime": {
     "end_time": "2024-06-05T09:33:15.782015Z",
     "start_time": "2024-06-05T09:32:49.565708Z"
    }
   },
   "outputs": [
    {
     "name": "stderr",
     "output_type": "stream",
     "text": [
      "[MainProcess/INFO] pool started with 8 workers\n",
      "[MainProcess/INFO] performing 160 scenarios * 1 policies * 1 model(s) = 160 experiments\n",
      "100%|████████████████████████████████████████| 160/160 [00:13<00:00, 11.52it/s]\n",
      "[MainProcess/INFO] experiments finished\n",
      "[MainProcess/INFO] terminating pool\n",
      "[MainProcess/INFO] results saved successfully to /Users/nikhil/Documents/MSc Vakken/Q3/J1Q3 Advanced Simulation/EPA141A-labs/final assignment/EPA141A-labs/final assignment/results/sobol_results.tar.gz\n"
     ]
    },
    {
     "name": "stdout",
     "output_type": "stream",
     "text": [
      "Total run time:0.4347610314687093 min\n"
     ]
    }
   ],
   "source": [
    "# load library\n",
    "\n",
    "import pandas as pd\n",
    "import numpy as np\n",
    "import scipy as sp\n",
    "import matplotlib.pyplot as plt\n",
    "import seaborn as sns\n",
    "import time\n",
    "import statistics\n",
    "\n",
    "from ema_workbench import (Model, RealParameter, ScalarOutcome, MultiprocessingEvaluator, \n",
    "                           ema_logging, Constant, Scenario, Policy)\n",
    "from ema_workbench import load_results\n",
    "from ema_workbench.analysis import prim, dimensional_stacking, cart\n",
    "from ema_workbench.util import ema_logging\n",
    "from ema_workbench import save_results\n",
    "\n",
    "from SALib.analyze import sobol\n",
    "from ema_workbench.em_framework.evaluators import Samplers\n",
    "from ema_workbench.em_framework.salib_samplers import get_SALib_problem\n",
    "\n",
    "ema_logging.log_to_stderr(ema_logging.INFO)\n",
    "\n",
    "from ema_workbench.em_framework.evaluators import BaseEvaluator\n",
    "from dike_model_function import DikeNetwork  # @UnresolvedImport\n",
    "from problem_formulation import get_model_for_problem_formulation\n",
    "\n",
    "\n",
    "dike_model, planning_steps = get_model_for_problem_formulation(1)\n",
    "\n",
    "policies = [Policy(\"base case without policy\", **{k.name: 0 for k in dike_model.levers})]\n",
    "problem = get_SALib_problem(dike_model.uncertainties)\n",
    "\n",
    "start = time.time()\n",
    "\n",
    "with MultiprocessingEvaluator(dike_model) as evaluator:\n",
    "    sa_results = evaluator.perform_experiments(scenarios=4, policies = policies, uncertainty_sampling=Samplers.SOBOL)\n",
    "\n",
    "end = time.time()\n",
    "\n",
    "print('Total run time:{} min'.format((end - start)/60))\n",
    "\n",
    "# Save the results\n",
    "save_results(sa_results, './results/sobol_results.tar.gz')"
   ]
  },
  {
   "cell_type": "code",
   "outputs": [],
   "source": [],
   "metadata": {
    "collapsed": false
   },
   "id": "de296b015dc49bfc"
  }
 ],
 "metadata": {
  "kernelspec": {
   "display_name": "Python 3",
   "language": "python",
   "name": "python3"
  },
  "language_info": {
   "codemirror_mode": {
    "name": "ipython",
    "version": 2
   },
   "file_extension": ".py",
   "mimetype": "text/x-python",
   "name": "python",
   "nbconvert_exporter": "python",
   "pygments_lexer": "ipython2",
   "version": "2.7.6"
  }
 },
 "nbformat": 4,
 "nbformat_minor": 5
}
