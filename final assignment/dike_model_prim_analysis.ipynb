{
 "cells": [
  {
   "metadata": {},
   "cell_type": "markdown",
   "source": "# Dike Model Analysis",
   "id": "2d34a6b4a9ade47a"
  },
  {
   "metadata": {
    "ExecuteTime": {
     "end_time": "2024-06-07T13:59:55.445656Z",
     "start_time": "2024-06-07T13:59:52.363020Z"
    }
   },
   "cell_type": "code",
   "source": [
    "# import libraries\n",
    "from ema_workbench import load_results\n",
    "from ema_workbench.analysis import plotting, plotting_util, pairs_plotting\n",
    "from ema_workbench.analysis import prim\n",
    "\n",
    "import matplotlib.pyplot as plt\n",
    "import seaborn as sns\n",
    "\n",
    "import numpy as np\n",
    "import pandas as pd"
   ],
   "id": "7cb0c4bdd96b0138",
   "outputs": [],
   "execution_count": 1
  },
  {
   "metadata": {},
   "cell_type": "markdown",
   "source": "## Scenario discovery with PRIM",
   "id": "ae78c82a8fb89b4b"
  },
  {
   "metadata": {
    "ExecuteTime": {
     "end_time": "2024-06-07T14:00:27.401294Z",
     "start_time": "2024-06-07T14:00:27.222759Z"
    }
   },
   "cell_type": "code",
   "source": [
    "# import data\n",
    "experiments, outcomes = load_results('./results/dikeanalysis_problem2.tar.gz')"
   ],
   "id": "99288c8cf7536217",
   "outputs": [],
   "execution_count": 3
  },
  {
   "metadata": {
    "ExecuteTime": {
     "end_time": "2024-06-07T14:00:28.409493Z",
     "start_time": "2024-06-07T14:00:28.373410Z"
    }
   },
   "cell_type": "code",
   "source": [
    "# show experiments\n",
    "experiments"
   ],
   "id": "80d7f21e02d61901",
   "outputs": [
    {
     "data": {
      "text/plain": [
       "      A.0_ID flood wave shape    A.1_Bmax A.1_Brate  A.1_pfail    A.2_Bmax  \\\n",
       "0                         117  137.695820      10.0   0.192255  181.288824   \n",
       "1                           7  296.945200       1.0   0.796338  126.095034   \n",
       "2                          54  214.418537       1.0   0.717056  347.720702   \n",
       "3                          55  298.602184       1.0   0.574311  312.904714   \n",
       "4                          14  232.990579      10.0   0.256071   55.118163   \n",
       "...                       ...         ...       ...        ...         ...   \n",
       "4995                       28  181.372720       1.5   0.586355  231.299909   \n",
       "4996                       71  226.490831      10.0   0.446196  278.630251   \n",
       "4997                       94   66.874774       1.0   0.183060  190.224466   \n",
       "4998                       77   32.808281       1.5   0.408734  277.798925   \n",
       "4999                       22  191.282293      10.0   0.679057  257.483548   \n",
       "\n",
       "     A.2_Brate  A.2_pfail    A.3_Bmax A.3_Brate  A.3_pfail  ...  \\\n",
       "0          1.0   0.885969  224.705726       1.5   0.671473  ...   \n",
       "1          1.5   0.994529  101.994811      10.0   0.280376  ...   \n",
       "2          1.5   0.242277  287.327219       1.0   0.224819  ...   \n",
       "3          1.5   0.382604  205.254117       1.0   0.937788  ...   \n",
       "4          1.0   0.492966  288.942315      10.0   0.542156  ...   \n",
       "...        ...        ...         ...       ...        ...  ...   \n",
       "4995       1.5   0.268159   30.707375       1.5   0.080432  ...   \n",
       "4996       1.5   0.763019  298.223605      10.0   0.411942  ...   \n",
       "4997       1.0   0.670637   56.179129       1.5   0.379469  ...   \n",
       "4998       1.5   0.336240  335.145336       1.0   0.439110  ...   \n",
       "4999       1.0   0.217486  232.429325      10.0   0.221634  ...   \n",
       "\n",
       "      A.3_DikeIncrease 2 A.4_DikeIncrease 0  A.4_DikeIncrease 1  \\\n",
       "0                      0                  0                   0   \n",
       "1                      0                  0                   0   \n",
       "2                      0                  0                   0   \n",
       "3                      0                  0                   0   \n",
       "4                      0                  0                   0   \n",
       "...                  ...                ...                 ...   \n",
       "4995                   0                  0                   0   \n",
       "4996                   0                  0                   0   \n",
       "4997                   0                  0                   0   \n",
       "4998                   0                  0                   0   \n",
       "4999                   0                  0                   0   \n",
       "\n",
       "      A.4_DikeIncrease 2 A.5_DikeIncrease 0  A.5_DikeIncrease 1  \\\n",
       "0                      0                  0                   0   \n",
       "1                      0                  0                   0   \n",
       "2                      0                  0                   0   \n",
       "3                      0                  0                   0   \n",
       "4                      0                  0                   0   \n",
       "...                  ...                ...                 ...   \n",
       "4995                   0                  0                   0   \n",
       "4996                   0                  0                   0   \n",
       "4997                   0                  0                   0   \n",
       "4998                   0                  0                   0   \n",
       "4999                   0                  0                   0   \n",
       "\n",
       "     A.5_DikeIncrease 2 scenario    policy     model  \n",
       "0                     0        0  Policy 0  dikesnet  \n",
       "1                     0        1  Policy 0  dikesnet  \n",
       "2                     0        2  Policy 0  dikesnet  \n",
       "3                     0        3  Policy 0  dikesnet  \n",
       "4                     0        4  Policy 0  dikesnet  \n",
       "...                 ...      ...       ...       ...  \n",
       "4995                  0     4995  Policy 0  dikesnet  \n",
       "4996                  0     4996  Policy 0  dikesnet  \n",
       "4997                  0     4997  Policy 0  dikesnet  \n",
       "4998                  0     4998  Policy 0  dikesnet  \n",
       "4999                  0     4999  Policy 0  dikesnet  \n",
       "\n",
       "[5000 rows x 53 columns]"
      ],
      "text/html": [
       "<div>\n",
       "<style scoped>\n",
       "    .dataframe tbody tr th:only-of-type {\n",
       "        vertical-align: middle;\n",
       "    }\n",
       "\n",
       "    .dataframe tbody tr th {\n",
       "        vertical-align: top;\n",
       "    }\n",
       "\n",
       "    .dataframe thead th {\n",
       "        text-align: right;\n",
       "    }\n",
       "</style>\n",
       "<table border=\"1\" class=\"dataframe\">\n",
       "  <thead>\n",
       "    <tr style=\"text-align: right;\">\n",
       "      <th></th>\n",
       "      <th>A.0_ID flood wave shape</th>\n",
       "      <th>A.1_Bmax</th>\n",
       "      <th>A.1_Brate</th>\n",
       "      <th>A.1_pfail</th>\n",
       "      <th>A.2_Bmax</th>\n",
       "      <th>A.2_Brate</th>\n",
       "      <th>A.2_pfail</th>\n",
       "      <th>A.3_Bmax</th>\n",
       "      <th>A.3_Brate</th>\n",
       "      <th>A.3_pfail</th>\n",
       "      <th>...</th>\n",
       "      <th>A.3_DikeIncrease 2</th>\n",
       "      <th>A.4_DikeIncrease 0</th>\n",
       "      <th>A.4_DikeIncrease 1</th>\n",
       "      <th>A.4_DikeIncrease 2</th>\n",
       "      <th>A.5_DikeIncrease 0</th>\n",
       "      <th>A.5_DikeIncrease 1</th>\n",
       "      <th>A.5_DikeIncrease 2</th>\n",
       "      <th>scenario</th>\n",
       "      <th>policy</th>\n",
       "      <th>model</th>\n",
       "    </tr>\n",
       "  </thead>\n",
       "  <tbody>\n",
       "    <tr>\n",
       "      <th>0</th>\n",
       "      <td>117</td>\n",
       "      <td>137.695820</td>\n",
       "      <td>10.0</td>\n",
       "      <td>0.192255</td>\n",
       "      <td>181.288824</td>\n",
       "      <td>1.0</td>\n",
       "      <td>0.885969</td>\n",
       "      <td>224.705726</td>\n",
       "      <td>1.5</td>\n",
       "      <td>0.671473</td>\n",
       "      <td>...</td>\n",
       "      <td>0</td>\n",
       "      <td>0</td>\n",
       "      <td>0</td>\n",
       "      <td>0</td>\n",
       "      <td>0</td>\n",
       "      <td>0</td>\n",
       "      <td>0</td>\n",
       "      <td>0</td>\n",
       "      <td>Policy 0</td>\n",
       "      <td>dikesnet</td>\n",
       "    </tr>\n",
       "    <tr>\n",
       "      <th>1</th>\n",
       "      <td>7</td>\n",
       "      <td>296.945200</td>\n",
       "      <td>1.0</td>\n",
       "      <td>0.796338</td>\n",
       "      <td>126.095034</td>\n",
       "      <td>1.5</td>\n",
       "      <td>0.994529</td>\n",
       "      <td>101.994811</td>\n",
       "      <td>10.0</td>\n",
       "      <td>0.280376</td>\n",
       "      <td>...</td>\n",
       "      <td>0</td>\n",
       "      <td>0</td>\n",
       "      <td>0</td>\n",
       "      <td>0</td>\n",
       "      <td>0</td>\n",
       "      <td>0</td>\n",
       "      <td>0</td>\n",
       "      <td>1</td>\n",
       "      <td>Policy 0</td>\n",
       "      <td>dikesnet</td>\n",
       "    </tr>\n",
       "    <tr>\n",
       "      <th>2</th>\n",
       "      <td>54</td>\n",
       "      <td>214.418537</td>\n",
       "      <td>1.0</td>\n",
       "      <td>0.717056</td>\n",
       "      <td>347.720702</td>\n",
       "      <td>1.5</td>\n",
       "      <td>0.242277</td>\n",
       "      <td>287.327219</td>\n",
       "      <td>1.0</td>\n",
       "      <td>0.224819</td>\n",
       "      <td>...</td>\n",
       "      <td>0</td>\n",
       "      <td>0</td>\n",
       "      <td>0</td>\n",
       "      <td>0</td>\n",
       "      <td>0</td>\n",
       "      <td>0</td>\n",
       "      <td>0</td>\n",
       "      <td>2</td>\n",
       "      <td>Policy 0</td>\n",
       "      <td>dikesnet</td>\n",
       "    </tr>\n",
       "    <tr>\n",
       "      <th>3</th>\n",
       "      <td>55</td>\n",
       "      <td>298.602184</td>\n",
       "      <td>1.0</td>\n",
       "      <td>0.574311</td>\n",
       "      <td>312.904714</td>\n",
       "      <td>1.5</td>\n",
       "      <td>0.382604</td>\n",
       "      <td>205.254117</td>\n",
       "      <td>1.0</td>\n",
       "      <td>0.937788</td>\n",
       "      <td>...</td>\n",
       "      <td>0</td>\n",
       "      <td>0</td>\n",
       "      <td>0</td>\n",
       "      <td>0</td>\n",
       "      <td>0</td>\n",
       "      <td>0</td>\n",
       "      <td>0</td>\n",
       "      <td>3</td>\n",
       "      <td>Policy 0</td>\n",
       "      <td>dikesnet</td>\n",
       "    </tr>\n",
       "    <tr>\n",
       "      <th>4</th>\n",
       "      <td>14</td>\n",
       "      <td>232.990579</td>\n",
       "      <td>10.0</td>\n",
       "      <td>0.256071</td>\n",
       "      <td>55.118163</td>\n",
       "      <td>1.0</td>\n",
       "      <td>0.492966</td>\n",
       "      <td>288.942315</td>\n",
       "      <td>10.0</td>\n",
       "      <td>0.542156</td>\n",
       "      <td>...</td>\n",
       "      <td>0</td>\n",
       "      <td>0</td>\n",
       "      <td>0</td>\n",
       "      <td>0</td>\n",
       "      <td>0</td>\n",
       "      <td>0</td>\n",
       "      <td>0</td>\n",
       "      <td>4</td>\n",
       "      <td>Policy 0</td>\n",
       "      <td>dikesnet</td>\n",
       "    </tr>\n",
       "    <tr>\n",
       "      <th>...</th>\n",
       "      <td>...</td>\n",
       "      <td>...</td>\n",
       "      <td>...</td>\n",
       "      <td>...</td>\n",
       "      <td>...</td>\n",
       "      <td>...</td>\n",
       "      <td>...</td>\n",
       "      <td>...</td>\n",
       "      <td>...</td>\n",
       "      <td>...</td>\n",
       "      <td>...</td>\n",
       "      <td>...</td>\n",
       "      <td>...</td>\n",
       "      <td>...</td>\n",
       "      <td>...</td>\n",
       "      <td>...</td>\n",
       "      <td>...</td>\n",
       "      <td>...</td>\n",
       "      <td>...</td>\n",
       "      <td>...</td>\n",
       "      <td>...</td>\n",
       "    </tr>\n",
       "    <tr>\n",
       "      <th>4995</th>\n",
       "      <td>28</td>\n",
       "      <td>181.372720</td>\n",
       "      <td>1.5</td>\n",
       "      <td>0.586355</td>\n",
       "      <td>231.299909</td>\n",
       "      <td>1.5</td>\n",
       "      <td>0.268159</td>\n",
       "      <td>30.707375</td>\n",
       "      <td>1.5</td>\n",
       "      <td>0.080432</td>\n",
       "      <td>...</td>\n",
       "      <td>0</td>\n",
       "      <td>0</td>\n",
       "      <td>0</td>\n",
       "      <td>0</td>\n",
       "      <td>0</td>\n",
       "      <td>0</td>\n",
       "      <td>0</td>\n",
       "      <td>4995</td>\n",
       "      <td>Policy 0</td>\n",
       "      <td>dikesnet</td>\n",
       "    </tr>\n",
       "    <tr>\n",
       "      <th>4996</th>\n",
       "      <td>71</td>\n",
       "      <td>226.490831</td>\n",
       "      <td>10.0</td>\n",
       "      <td>0.446196</td>\n",
       "      <td>278.630251</td>\n",
       "      <td>1.5</td>\n",
       "      <td>0.763019</td>\n",
       "      <td>298.223605</td>\n",
       "      <td>10.0</td>\n",
       "      <td>0.411942</td>\n",
       "      <td>...</td>\n",
       "      <td>0</td>\n",
       "      <td>0</td>\n",
       "      <td>0</td>\n",
       "      <td>0</td>\n",
       "      <td>0</td>\n",
       "      <td>0</td>\n",
       "      <td>0</td>\n",
       "      <td>4996</td>\n",
       "      <td>Policy 0</td>\n",
       "      <td>dikesnet</td>\n",
       "    </tr>\n",
       "    <tr>\n",
       "      <th>4997</th>\n",
       "      <td>94</td>\n",
       "      <td>66.874774</td>\n",
       "      <td>1.0</td>\n",
       "      <td>0.183060</td>\n",
       "      <td>190.224466</td>\n",
       "      <td>1.0</td>\n",
       "      <td>0.670637</td>\n",
       "      <td>56.179129</td>\n",
       "      <td>1.5</td>\n",
       "      <td>0.379469</td>\n",
       "      <td>...</td>\n",
       "      <td>0</td>\n",
       "      <td>0</td>\n",
       "      <td>0</td>\n",
       "      <td>0</td>\n",
       "      <td>0</td>\n",
       "      <td>0</td>\n",
       "      <td>0</td>\n",
       "      <td>4997</td>\n",
       "      <td>Policy 0</td>\n",
       "      <td>dikesnet</td>\n",
       "    </tr>\n",
       "    <tr>\n",
       "      <th>4998</th>\n",
       "      <td>77</td>\n",
       "      <td>32.808281</td>\n",
       "      <td>1.5</td>\n",
       "      <td>0.408734</td>\n",
       "      <td>277.798925</td>\n",
       "      <td>1.5</td>\n",
       "      <td>0.336240</td>\n",
       "      <td>335.145336</td>\n",
       "      <td>1.0</td>\n",
       "      <td>0.439110</td>\n",
       "      <td>...</td>\n",
       "      <td>0</td>\n",
       "      <td>0</td>\n",
       "      <td>0</td>\n",
       "      <td>0</td>\n",
       "      <td>0</td>\n",
       "      <td>0</td>\n",
       "      <td>0</td>\n",
       "      <td>4998</td>\n",
       "      <td>Policy 0</td>\n",
       "      <td>dikesnet</td>\n",
       "    </tr>\n",
       "    <tr>\n",
       "      <th>4999</th>\n",
       "      <td>22</td>\n",
       "      <td>191.282293</td>\n",
       "      <td>10.0</td>\n",
       "      <td>0.679057</td>\n",
       "      <td>257.483548</td>\n",
       "      <td>1.0</td>\n",
       "      <td>0.217486</td>\n",
       "      <td>232.429325</td>\n",
       "      <td>10.0</td>\n",
       "      <td>0.221634</td>\n",
       "      <td>...</td>\n",
       "      <td>0</td>\n",
       "      <td>0</td>\n",
       "      <td>0</td>\n",
       "      <td>0</td>\n",
       "      <td>0</td>\n",
       "      <td>0</td>\n",
       "      <td>0</td>\n",
       "      <td>4999</td>\n",
       "      <td>Policy 0</td>\n",
       "      <td>dikesnet</td>\n",
       "    </tr>\n",
       "  </tbody>\n",
       "</table>\n",
       "<p>5000 rows × 53 columns</p>\n",
       "</div>"
      ]
     },
     "execution_count": 4,
     "metadata": {},
     "output_type": "execute_result"
    }
   ],
   "execution_count": 4
  },
  {
   "metadata": {
    "ExecuteTime": {
     "end_time": "2024-06-07T14:00:31.040585Z",
     "start_time": "2024-06-07T14:00:31.035025Z"
    }
   },
   "cell_type": "code",
   "source": [
    "# clean up experiments\n",
    "X = experiments.iloc[:, 0:(len(experiments.columns)-3)]"
   ],
   "id": "a3045c1d4fd07e1b",
   "outputs": [],
   "execution_count": 5
  },
  {
   "metadata": {
    "ExecuteTime": {
     "end_time": "2024-06-07T14:00:43.939925Z",
     "start_time": "2024-06-07T14:00:43.933399Z"
    }
   },
   "cell_type": "code",
   "source": [
    "# show all outcome variables\n",
    "outcomes.keys()"
   ],
   "id": "83cd00b12e3aabb1",
   "outputs": [
    {
     "data": {
      "text/plain": [
       "dict_keys(['Expected Annual Damage', 'Dike Investment Costs', 'RfR Investment Costs', 'Evacuation Costs', 'Expected Number of Deaths'])"
      ]
     },
     "execution_count": 6,
     "metadata": {},
     "output_type": "execute_result"
    }
   ],
   "execution_count": 6
  },
  {
   "metadata": {
    "ExecuteTime": {
     "end_time": "2024-06-07T14:11:34.444972Z",
     "start_time": "2024-06-07T14:11:34.429281Z"
    }
   },
   "cell_type": "code",
   "source": [
    "def dep_var(df, outcome_to_study='Expected Annual Damage', percentile=85): \n",
    "    \"\"\"\n",
    "    Returns the dependent variable for the scenario discovery analysis, \n",
    "    which takes either 0 or 1 depending on a threshold. This threshold is\n",
    "    computed based on the percentile of data points. \n",
    "    \"\"\"\n",
    "    \n",
    "    # Calculate the threshold\n",
    "    threshold = np.percentile(outcomes[outcome_to_study], percentile) \n",
    "    # Show threshold\n",
    "    print(f\"The threshold for {percentile}% worst outcomes for {outcome_to_study} equals {threshold}.\")\n",
    "    # Get column to optimise\n",
    "    opt = outcomes[outcome_to_study]\n",
    "    # To dataframe\n",
    "    opt = pd.DataFrame(opt)\n",
    "    # Compute dependent variable\n",
    "    opt[outcome_to_study] = np.where(opt[0] > threshold, 1, 0)\n",
    "    # Assign variable to y as numpy array\n",
    "    y = opt[outcome_to_study].to_numpy()\n",
    "    # return y\n",
    "    return y"
   ],
   "id": "e915373d0966a707",
   "outputs": [],
   "execution_count": 21
  },
  {
   "metadata": {
    "ExecuteTime": {
     "end_time": "2024-06-07T14:11:59.474316Z",
     "start_time": "2024-06-07T14:11:59.433014Z"
    }
   },
   "cell_type": "code",
   "source": "y = dep_var(df=outcomes, outcome_to_study='Expected Annual Damage')",
   "id": "1d2769726dc69b46",
   "outputs": [
    {
     "name": "stdout",
     "output_type": "stream",
     "text": [
      "The threshold for 85% worst outcomes for Expected Annual Damage equals 2334416136.094247.\n"
     ]
    }
   ],
   "execution_count": 22
  },
  {
   "metadata": {
    "ExecuteTime": {
     "end_time": "2024-06-07T14:12:01.254837Z",
     "start_time": "2024-06-07T14:12:01.197144Z"
    }
   },
   "cell_type": "code",
   "source": [
    "# Define PRIM\n",
    "sd_alg = prim.Prim(x=X, y=y, threshold=0.8, peel_alpha=0.1)"
   ],
   "id": "f8ec37a185ea18e6",
   "outputs": [],
   "execution_count": 23
  },
  {
   "metadata": {
    "ExecuteTime": {
     "end_time": "2024-06-07T14:12:07.760410Z",
     "start_time": "2024-06-07T14:12:02.526396Z"
    }
   },
   "cell_type": "code",
   "source": [
    "# Find box\n",
    "box = sd_alg.find_box()"
   ],
   "id": "8c21a99c5525917e",
   "outputs": [],
   "execution_count": 24
  },
  {
   "metadata": {
    "ExecuteTime": {
     "end_time": "2024-06-07T14:12:08.116622Z",
     "start_time": "2024-06-07T14:12:07.762989Z"
    }
   },
   "cell_type": "code",
   "source": [
    "# Show trade-off between density and coverage\n",
    "box.show_tradeoff(annotated=True)\n",
    "plt.show()"
   ],
   "id": "a44fc0709f973d04",
   "outputs": [
    {
     "data": {
      "text/plain": [
       "<Figure size 640x480 with 2 Axes>"
      ],
      "image/png": "[encoded data removed]"
     },
     "metadata": {},
     "output_type": "display_data"
    }
   ],
   "execution_count": 25
  },
  {
   "metadata": {
    "ExecuteTime": {
     "end_time": "2024-06-07T14:21:37.741885Z",
     "start_time": "2024-06-07T14:21:37.736953Z"
    }
   },
   "cell_type": "code",
   "source": [
    "# Determine point to study, depends on: \n",
    "# (1) maximise density\n",
    "# (2) maximise coverage\n",
    "# (3) minimise number of restricted dimensions\n",
    "point_to_study = 11"
   ],
   "id": "e5024258e5cb81a7",
   "outputs": [],
   "execution_count": 33
  },
  {
   "metadata": {
    "ExecuteTime": {
     "end_time": "2024-06-07T14:21:38.323289Z",
     "start_time": "2024-06-07T14:21:38.301246Z"
    }
   },
   "cell_type": "code",
   "source": "box.inspect(point_to_study)",
   "id": "192feafc3b1c70bf",
   "outputs": [
    {
     "name": "stdout",
     "output_type": "stream",
     "text": [
      "coverage       1.000000\n",
      "density        0.478927\n",
      "id            11.000000\n",
      "k            750.000000\n",
      "mass           0.313200\n",
      "mean           0.478927\n",
      "n           1566.000000\n",
      "res_dim        1.000000\n",
      "Name: 11, dtype: float64\n",
      "\n",
      "            box 11                                  \n",
      "               min       max qp value       qp value\n",
      "A.3_pfail  0.00009  0.313233      NaN  4.789750e-207\n",
      "\n"
     ]
    },
    {
     "data": {
      "text/plain": [
       "[None]"
      ]
     },
     "execution_count": 34,
     "metadata": {},
     "output_type": "execute_result"
    }
   ],
   "execution_count": 34
  },
  {
   "metadata": {
    "ExecuteTime": {
     "end_time": "2024-06-07T14:21:39.031864Z",
     "start_time": "2024-06-07T14:21:38.819797Z"
    }
   },
   "cell_type": "code",
   "source": "box.inspect(point_to_study, style='graph')",
   "id": "4e3776c5027f00f9",
   "outputs": [
    {
     "data": {
      "text/plain": [
       "[<Figure size 640x480 with 1 Axes>]"
      ]
     },
     "execution_count": 35,
     "metadata": {},
     "output_type": "execute_result"
    },
    {
     "data": {
      "text/plain": [
       "<Figure size 640x480 with 1 Axes>"
      ],
      "image/png": "[encoded data removed]"
     },
     "metadata": {},
     "output_type": "display_data"
    }
   ],
   "execution_count": 35
  },
  {
   "metadata": {
    "ExecuteTime": {
     "end_time": "2024-06-07T14:21:40.286173Z",
     "start_time": "2024-06-07T14:21:39.788995Z"
    }
   },
   "cell_type": "code",
   "source": [
    "box.show_pairs_scatter(point_to_study)\n",
    "plt.show()"
   ],
   "id": "a2f9d8c4002180bb",
   "outputs": [
    {
     "data": {
      "text/plain": [
       "<Figure size 268.111x250 with 2 Axes>"
      ],
      "image/png": "[encoded data removed]"
     },
     "metadata": {},
     "output_type": "display_data"
    }
   ],
   "execution_count": 36
  },
  {
   "metadata": {
    "ExecuteTime": {
     "end_time": "2024-06-07T14:22:03.810378Z",
     "start_time": "2024-06-07T14:22:03.792930Z"
    }
   },
   "cell_type": "code",
   "source": [
    "# Define outcome to study\n",
    "y = dep_var(df=outcomes, outcome_to_study='Expected Number of Deaths')"
   ],
   "id": "8cec599c9725690f",
   "outputs": [
    {
     "name": "stdout",
     "output_type": "stream",
     "text": [
      "The threshold for 85% worst outcomes for Expected Number of Deaths equals 2.581666075302055.\n"
     ]
    }
   ],
   "execution_count": 37
  },
  {
   "metadata": {
    "ExecuteTime": {
     "end_time": "2024-06-07T14:22:05.543524Z",
     "start_time": "2024-06-07T14:22:05.498259Z"
    }
   },
   "cell_type": "code",
   "source": [
    "# Define PRIM\n",
    "sd_alg = prim.Prim(x=X, y=y, threshold=0.8, peel_alpha=0.1)"
   ],
   "id": "b545329ba66b48fd",
   "outputs": [],
   "execution_count": 38
  },
  {
   "metadata": {
    "ExecuteTime": {
     "end_time": "2024-06-07T14:22:12.747627Z",
     "start_time": "2024-06-07T14:22:06.057194Z"
    }
   },
   "cell_type": "code",
   "source": [
    "# Find box\n",
    "box = sd_alg.find_box()"
   ],
   "id": "8842b02735c63ba4",
   "outputs": [],
   "execution_count": 39
  },
  {
   "metadata": {
    "ExecuteTime": {
     "end_time": "2024-06-07T14:22:13.081163Z",
     "start_time": "2024-06-07T14:22:12.749956Z"
    }
   },
   "cell_type": "code",
   "source": [
    "# Show trade-off between coverage and density\n",
    "box.show_tradeoff(annotated=True)\n",
    "plt.show()"
   ],
   "id": "9ccd5b41c86eceeb",
   "outputs": [
    {
     "data": {
      "text/plain": [
       "<Figure size 640x480 with 2 Axes>"
      ],
      "image/png": "[encoded data removed]"
     },
     "metadata": {},
     "output_type": "display_data"
    }
   ],
   "execution_count": 40
  },
  {
   "metadata": {
    "ExecuteTime": {
     "end_time": "2024-06-07T14:22:16.308718Z",
     "start_time": "2024-06-07T14:22:16.304598Z"
    }
   },
   "cell_type": "code",
   "source": [
    "# Determine point to study\n",
    "point_to_study = 18"
   ],
   "id": "49ee7fa02a8f11f0",
   "outputs": [],
   "execution_count": 41
  },
  {
   "metadata": {
    "ExecuteTime": {
     "end_time": "2024-06-07T14:22:16.815103Z",
     "start_time": "2024-06-07T14:22:16.796679Z"
    }
   },
   "cell_type": "code",
   "source": "box.inspect(point_to_study)",
   "id": "9f9e685da0db3d0",
   "outputs": [
    {
     "name": "stdout",
     "output_type": "stream",
     "text": [
      "coverage      0.826667\n",
      "density       0.829987\n",
      "id           18.000000\n",
      "k           620.000000\n",
      "mass          0.149400\n",
      "mean          0.829987\n",
      "n           747.000000\n",
      "res_dim       2.000000\n",
      "Name: 18, dtype: float64\n",
      "\n",
      "             box 18                                 \n",
      "                min       max      qp value qp value\n",
      "A.3_pfail  0.000090  0.184842           NaN      0.0\n",
      "A.1_pfail  0.195909  0.999961  1.053799e-09      NaN\n",
      "\n"
     ]
    },
    {
     "data": {
      "text/plain": [
       "[None]"
      ]
     },
     "execution_count": 42,
     "metadata": {},
     "output_type": "execute_result"
    }
   ],
   "execution_count": 42
  },
  {
   "metadata": {
    "ExecuteTime": {
     "end_time": "2024-06-07T14:22:18.548849Z",
     "start_time": "2024-06-07T14:22:18.337843Z"
    }
   },
   "cell_type": "code",
   "source": "box.inspect(point_to_study, style='graph')",
   "id": "40164dd473eafd59",
   "outputs": [
    {
     "data": {
      "text/plain": [
       "[<Figure size 640x480 with 1 Axes>]"
      ]
     },
     "execution_count": 43,
     "metadata": {},
     "output_type": "execute_result"
    },
    {
     "data": {
      "text/plain": [
       "<Figure size 640x480 with 1 Axes>"
      ],
      "image/png": "[encoded data removed]"
     },
     "metadata": {},
     "output_type": "display_data"
    }
   ],
   "execution_count": 43
  },
  {
   "metadata": {},
   "cell_type": "code",
   "outputs": [],
   "execution_count": null,
   "source": "",
   "id": "abc604377c51f8b8"
  }
 ],
 "metadata": {
  "kernelspec": {
   "display_name": "Python 3",
   "language": "python",
   "name": "python3"
  },
  "language_info": {
   "codemirror_mode": {
    "name": "ipython",
    "version": 2
   },
   "file_extension": ".py",
   "mimetype": "text/x-python",
   "name": "python",
   "nbconvert_exporter": "python",
   "pygments_lexer": "ipython2",
   "version": "2.7.6"
  }
 },
 "nbformat": 4,
 "nbformat_minor": 5
}
