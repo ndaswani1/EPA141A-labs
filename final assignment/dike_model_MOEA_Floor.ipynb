{
 "cells": [
  {
   "metadata": {},
   "cell_type": "markdown",
   "source": [
    "# Multi-Objective Optimization: Directed search"
   ]
  },
  {
   "metadata": {
    "ExecuteTime": {
     "end_time": "2024-06-09T13:48:49.606282Z",
     "start_time": "2024-06-09T13:48:44.454437Z"
    }
   },
   "cell_type": "code",
   "source": [
    "# import libraries\n",
    "from ema_workbench import (\n",
    "    Model,\n",
    "    MultiprocessingEvaluator,\n",
    "    ScalarOutcome,\n",
    "    IntegerParameter,\n",
    "    optimize,\n",
    "    Scenario, save_results,\n",
    ")\n",
    "from ema_workbench.em_framework.optimization import EpsilonProgress\n",
    "from ema_workbench.util import ema_logging\n",
    "from ema_workbench import load_results\n",
    "from ema_workbench.analysis import pairs_plotting\n",
    "from ema_workbench.analysis import parcoords\n",
    "import matplotlib.pyplot as plt\n",
    "import seaborn as sns\n",
    "import pandas as pd"
   ],
   "outputs": [],
   "execution_count": 1
  },
  {
   "metadata": {},
   "cell_type": "markdown",
   "source": [
    "## Import data\n",
    "We import the data and results from running the dike_model_optimization.py. \n",
    "* We used the $\\epsilon$-NSGA2 multi-objective evolutionary algorithm.\n",
    "* The number of function evaluations (nfe), is determined by analyzing whether the algorithm has converged and equals ???\n",
    "* The epsilon value should be a list/array with a length that equals the number of outcomes, so ???. By making the epsilon values higher, we reduce the number of solutions that we find. Selecting appropriate values is difficult and it depends on how detailed we want the solutions to be, as well as the runtime. Lower epsilon values will provide more solutions and this slows down the optimization. Therefore, we decided to select the following epsiol values: [????]\n",
    "* To check if the MOEA has converged to the optimum solutions, convergence metrics are used. We use epsilon progress for this\n"
   ]
  },
  {
   "metadata": {},
   "cell_type": "code",
   "outputs": [],
   "execution_count": null,
   "source": [
    "# Import data and results:\n",
    "experiments, outcomes = load_results('./results/????.gz')"
   ]
  },
  {
   "metadata": {},
   "cell_type": "code",
   "outputs": [],
   "execution_count": null,
   "source": [
    "outcomes"
   ]
  },
  {
   "metadata": {},
   "cell_type": "markdown",
   "source": [
    "## Visualise results\n",
    "We visualise the results using a parallel coordinate plot, since we are dealing with more than 3 outcomes of interest (dimensions). In this plot, the dimensions are visualised side by side, and a line connects the dimensions in the multidimensional space into one plot."
   ]
  },
  {
   "cell_type": "code",
   "metadata": {
    "ExecuteTime": {
     "end_time": "2024-06-09T13:56:31.543882Z",
     "start_time": "2024-06-09T13:56:31.539405Z"
    }
   },
   "source": [
    "# Visualize results using a parallel coordinate plot.\n",
    "from ema_workbench.analysis import parcoords\n",
    "\n",
    "limits = parcoords.get_limits(outcomes)\n",
    "axes = parcoords.ParallelAxes(limits)\n",
    "axes.plot(outcomes)\n",
    "\n",
    "# Invert the axis so the direction of desirability is the same \n",
    "axes.invert_axis('A.1 Total Costs') \n",
    "plt.show()"
   ],
   "outputs": [],
   "execution_count": 1
  },
  {
   "metadata": {},
   "cell_type": "markdown",
   "source": [
    "**Interpretation:**"
   ]
  },
  {
   "metadata": {
    "ExecuteTime": {
     "end_time": "2024-06-09T14:05:28.361011Z",
     "start_time": "2024-06-09T14:05:28.355541Z"
    }
   },
   "cell_type": "code",
   "source": [],
   "outputs": [],
   "execution_count": 1
  },
  {
   "metadata": {},
   "cell_type": "markdown",
   "source": [
    "### Assessing Covergence"
   ]
  },
  {
   "metadata": {},
   "cell_type": "code",
   "outputs": [],
   "execution_count": null,
   "source": []
  },
  {
   "metadata": {},
   "cell_type": "markdown",
   "source": [
    "## Stochasticity\n",
    "Multi-objective evolutionary algorithms (MOEAs) make use of stochastics in mutation and crossover. Thus, the results of different runs vary. Therefore, we run the MOEAs multiple times for different random seeds and combine the results from these runs into a combined pareto approximate set. "
   ]
  },
  {
   "metadata": {},
   "cell_type": "code",
   "outputs": [],
   "execution_count": null,
   "source": []
  }
 ],
 "metadata": {
  "kernelspec": {
   "display_name": "Python 3 (ipykernel)",
   "language": "python",
   "name": "python3"
  },
  "language_info": {
   "codemirror_mode": {
    "name": "ipython",
    "version": 3
   },
   "file_extension": ".py",
   "mimetype": "text/x-python",
   "name": "python",
   "nbconvert_exporter": "python",
   "pygments_lexer": "ipython3",
   "version": "3.9.16"
  }
 },
 "nbformat": 4,
 "nbformat_minor": 4
}
