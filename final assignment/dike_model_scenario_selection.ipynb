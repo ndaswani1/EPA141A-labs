{
 "cells": [
  {
   "metadata": {},
   "cell_type": "markdown",
   "source": "# Dike Model Analysis",
   "id": "2277c0d30287aa5c"
  },
  {
   "metadata": {
    "ExecuteTime": {
     "end_time": "2024-06-17T12:55:45.228271Z",
     "start_time": "2024-06-17T12:55:39.260967Z"
    }
   },
   "cell_type": "code",
   "source": [
    "# import libraries\n",
    "from ema_workbench import (save_results, load_results)\n",
    "from ema_workbench.analysis import prim\n",
    "import matplotlib.pyplot as plt\n",
    "\n",
    "import numpy as np\n",
    "import pandas as pd"
   ],
   "id": "35e437df39f7c6b7",
   "outputs": [],
   "execution_count": 1
  },
  {
   "metadata": {},
   "cell_type": "markdown",
   "source": "## Scenario Selection for Directed Search",
   "id": "f0705a2b1ff61f16"
  },
  {
   "metadata": {
    "ExecuteTime": {
     "end_time": "2024-06-17T12:58:26.652151Z",
     "start_time": "2024-06-17T12:58:26.325310Z"
    }
   },
   "cell_type": "code",
   "source": [
    "# retrieve the experiments and outcomes used for the PRIM analysis\n",
    "# configuration: 5000 scenarios under 1 reference policy in which all policy levers are set to zero\n",
    "experiments, outcomes = load_results('./results/prim_problem3.tar.gz')"
   ],
   "id": "3f966f1224c556c2",
   "outputs": [],
   "execution_count": 2
  },
  {
   "metadata": {
    "ExecuteTime": {
     "end_time": "2024-06-17T12:58:27.356082Z",
     "start_time": "2024-06-17T12:58:27.343033Z"
    }
   },
   "cell_type": "code",
   "source": [
    "# show outcomes for problem framing 3\n",
    "outcomes.keys()"
   ],
   "id": "eaf319d7238879b4",
   "outputs": [
    {
     "data": {
      "text/plain": [
       "dict_keys(['A.1 Total Costs', 'A.1_Expected Number of Deaths', 'A.2 Total Costs', 'A.2_Expected Number of Deaths', 'A.3 Total Costs', 'A.3_Expected Number of Deaths', 'A.4 Total Costs', 'A.4_Expected Number of Deaths', 'A.5 Total Costs', 'A.5_Expected Number of Deaths', 'RfR Total Costs', 'Expected Evacuation Costs'])"
      ]
     },
     "execution_count": 3,
     "metadata": {},
     "output_type": "execute_result"
    }
   ],
   "execution_count": 3
  },
  {
   "metadata": {
    "ExecuteTime": {
     "end_time": "2024-06-17T12:58:28.209497Z",
     "start_time": "2024-06-17T12:58:28.203418Z"
    }
   },
   "cell_type": "code",
   "source": [
    "# define the regressors used to retrieve scenarios\n",
    "X = experiments.iloc[:, 0:(len(experiments.columns)-3)]"
   ],
   "id": "4a8925688a9c5111",
   "outputs": [],
   "execution_count": 4
  },
  {
   "metadata": {
    "ExecuteTime": {
     "end_time": "2024-06-17T12:58:28.750331Z",
     "start_time": "2024-06-17T12:58:28.743262Z"
    }
   },
   "cell_type": "code",
   "source": [
    "# convert outcomes array to dataframe\n",
    "outcomes_df = pd.DataFrame(outcomes)"
   ],
   "id": "4780cd61ab5c227c",
   "outputs": [],
   "execution_count": 5
  },
  {
   "metadata": {
    "ExecuteTime": {
     "end_time": "2024-06-17T12:58:29.326386Z",
     "start_time": "2024-06-17T12:58:29.318765Z"
    }
   },
   "cell_type": "code",
   "source": [
    "# only select outcomes under study, which are the expected number of deaths\n",
    "ooi = outcomes_df[['A.1_Expected Number of Deaths', 'A.2_Expected Number of Deaths', 'A.3_Expected Number of Deaths']]"
   ],
   "id": "72d6a383a429e36",
   "outputs": [],
   "execution_count": 6
  },
  {
   "metadata": {
    "ExecuteTime": {
     "end_time": "2024-06-17T12:58:30.259419Z",
     "start_time": "2024-06-17T12:58:30.226718Z"
    }
   },
   "cell_type": "code",
   "source": [
    "# retrieve the data points of the expected number of deaths in dike rings 1 - 3 which are higher than 0.0 deaths\n",
    "threshold_a1 = np.percentile(outcomes_df['A.1_Expected Number of Deaths'], 21)\n",
    "threshold_a2 = np.percentile(outcomes_df['A.2_Expected Number of Deaths'], 30)\n",
    "threshold_a3 = np.percentile(outcomes_df['A.3_Expected Number of Deaths'], 41)"
   ],
   "id": "24bac6883a8b4fba",
   "outputs": [],
   "execution_count": 7
  },
  {
   "metadata": {
    "ExecuteTime": {
     "end_time": "2024-06-17T12:58:30.777221Z",
     "start_time": "2024-06-17T12:58:30.770994Z"
    }
   },
   "cell_type": "code",
   "source": [
    "# show the threshold for each dike ring\n",
    "print(\"The threshold for dike ring 1:\", threshold_a1)\n",
    "print(\"The threshold for dike ring 2:\", threshold_a2)\n",
    "print(\"The threshold for dike ring 3:\", threshold_a3)"
   ],
   "id": "3e3d91cd7325c4e7",
   "outputs": [
    {
     "name": "stdout",
     "output_type": "stream",
     "text": [
      "The threshold for dike ring 1: 0.0103606601192425\n",
      "The threshold for dike ring 2: 0.0032117105988548\n",
      "The threshold for dike ring 3: 0.00986346666450913\n"
     ]
    }
   ],
   "execution_count": 8
  },
  {
   "metadata": {},
   "cell_type": "code",
   "outputs": [
    {
     "name": "stderr",
     "output_type": "stream",
     "text": [
      "/var/folders/g4/8z1prdqs5l3dj5xzv765t_sc0000gn/T/ipykernel_6003/140937224.py:1: SettingWithCopyWarning: \n",
      "A value is trying to be set on a copy of a slice from a DataFrame.\n",
      "Try using .loc[row_indexer,col_indexer] = value instead\n",
      "\n",
      "See the caveats in the documentation: https://pandas.pydata.org/pandas-docs/stable/user_guide/indexing.html#returning-a-view-versus-a-copy\n",
      "  ooi['ooi'] = ((ooi['A.1_Expected Number of Deaths'] >= threshold_a1) &\n"
     ]
    }
   ],
   "execution_count": 200,
   "source": [
    "# assess rows in ooi for which expected number of deaths is larger than 0.0 for all dike rings\n",
    "# and allocate a binary value to a new column which either takes 0 or 1\n",
    "ooi['ooi'] = ((ooi['A.1_Expected Number of Deaths'] >= threshold_a1) & \n",
    "              (ooi['A.2_Expected Number of Deaths'] >= threshold_a2) & \n",
    "              (ooi['A.3_Expected Number of Deaths'] >= threshold_a3)).astype(int)"
   ],
   "id": "17df849999f1cb74"
  },
  {
   "metadata": {},
   "cell_type": "code",
   "outputs": [
    {
     "data": {
      "text/plain": [
       "ooi\n",
       "0    3462\n",
       "1    1538\n",
       "Name: count, dtype: int64"
      ]
     },
     "execution_count": 201,
     "metadata": {},
     "output_type": "execute_result"
    }
   ],
   "execution_count": 201,
   "source": [
    "# show the number of data points which take 0 and 1 as values\n",
    "ooi.ooi.value_counts()"
   ],
   "id": "e2ff386d1570cdd"
  },
  {
   "metadata": {},
   "cell_type": "code",
   "outputs": [],
   "execution_count": 202,
   "source": [
    "# select the dependent variable, and convert to a numpy array\n",
    "y = ooi['ooi'].to_numpy()"
   ],
   "id": "94b83f4df799613"
  },
  {
   "metadata": {},
   "cell_type": "code",
   "outputs": [],
   "execution_count": 204,
   "source": [
    "# initiate the algorithm with a threshold of 0.8 and a peel alpha of 0.1\n",
    "sd_alg = prim.Prim(x=X, y=y, threshold=0.8, peel_alpha=0.1)"
   ],
   "id": "f2d75d150760880"
  },
  {
   "metadata": {},
   "cell_type": "code",
   "outputs": [],
   "execution_count": 205,
   "source": [
    "# search for boxes\n",
    "box = sd_alg.find_box()"
   ],
   "id": "9cc0075f2060ae19"
  },
  {
   "metadata": {},
   "cell_type": "code",
   "outputs": [
    {
     "data": {
      "text/plain": [
       "<Figure size 640x480 with 2 Axes>"
      ],
      "image/png": "[encoded data removed]"
     },
     "metadata": {},
     "output_type": "display_data"
    }
   ],
   "execution_count": 206,
   "source": [
    "# show the trade-off between coverage and density\n",
    "box.show_tradeoff(annotated=True)\n",
    "plt.title(\"Problem framing 3, Expected deaths dike rings 1 - 3\")\n",
    "plt.show()"
   ],
   "id": "54a1a6081fb4e32"
  },
  {
   "metadata": {},
   "cell_type": "code",
   "outputs": [
    {
     "data": {
      "text/plain": [
       "<Figure size 640x480 with 1 Axes>"
      ],
      "image/png": "[encoded data removed]"
     },
     "metadata": {},
     "output_type": "display_data"
    }
   ],
   "execution_count": 207,
   "source": [
    "# determine point to study\n",
    "# here, point 10 is chosen since it gives the least number of restrictions, \n",
    "# while optimizing the combination of coverage and density\n",
    "point_to_study = 10\n",
    "box.inspect(point_to_study, style='graph')\n",
    "plt.title(\"Problem framing 3, Expected deaths dike ring 1 - 3\")\n",
    "plt.show()"
   ],
   "id": "2dbddaba0ed48dc8"
  },
  {
   "metadata": {},
   "cell_type": "code",
   "outputs": [
    {
     "data": {
      "text/plain": [
       "      A.0_ID flood wave shape    A.1_Bmax A.1_Brate  A.1_pfail    A.2_Bmax  \\\n",
       "2                         105  158.533238      10.0   0.537359  315.145762   \n",
       "33                        122  189.698330       1.0   0.682612  299.782340   \n",
       "56                          8  124.406106      10.0   0.564305  188.281947   \n",
       "70                          7   92.494983      10.0   0.695807  141.911870   \n",
       "117                        93   40.537874       1.5   0.712848   49.618879   \n",
       "...                       ...         ...       ...        ...         ...   \n",
       "4899                       11  122.316720       1.0   0.572786  114.275576   \n",
       "4924                      101  281.165784       1.0   0.693964   42.142980   \n",
       "4934                       33   43.823637       1.0   0.643488  303.542361   \n",
       "4950                      114   80.309914       1.0   0.542835  179.860698   \n",
       "4955                       61   91.994198       1.0   0.583565   51.555592   \n",
       "\n",
       "     A.2_Brate  A.2_pfail    A.3_Bmax A.3_Brate  A.3_pfail  ...  \\\n",
       "2          1.0   0.343249  290.983221       1.0   0.213538  ...   \n",
       "33         1.0   0.708662  176.717249      10.0   0.335554  ...   \n",
       "56         1.5   0.363772  258.363480      10.0   0.238341  ...   \n",
       "70        10.0   0.761783  113.549535      10.0   0.034505  ...   \n",
       "117        1.5   0.547637  205.325470       1.0   0.425226  ...   \n",
       "...        ...        ...         ...       ...        ...  ...   \n",
       "4899       1.5   0.569826  139.651981       1.0   0.072716  ...   \n",
       "4924      10.0   0.604134  141.749554      10.0   0.238004  ...   \n",
       "4934       1.5   0.779226  299.602868      10.0   0.028695  ...   \n",
       "4950       1.5   0.340880   92.264076       1.0   0.358026  ...   \n",
       "4955      10.0   0.670247  203.122662       1.0   0.099706  ...   \n",
       "\n",
       "      A.3_DikeIncrease 2 A.4_DikeIncrease 0  A.4_DikeIncrease 1  \\\n",
       "2                      0                  0                   0   \n",
       "33                     0                  0                   0   \n",
       "56                     0                  0                   0   \n",
       "70                     0                  0                   0   \n",
       "117                    0                  0                   0   \n",
       "...                  ...                ...                 ...   \n",
       "4899                   0                  0                   0   \n",
       "4924                   0                  0                   0   \n",
       "4934                   0                  0                   0   \n",
       "4950                   0                  0                   0   \n",
       "4955                   0                  0                   0   \n",
       "\n",
       "      A.4_DikeIncrease 2 A.5_DikeIncrease 0  A.5_DikeIncrease 1  \\\n",
       "2                      0                  0                   0   \n",
       "33                     0                  0                   0   \n",
       "56                     0                  0                   0   \n",
       "70                     0                  0                   0   \n",
       "117                    0                  0                   0   \n",
       "...                  ...                ...                 ...   \n",
       "4899                   0                  0                   0   \n",
       "4924                   0                  0                   0   \n",
       "4934                   0                  0                   0   \n",
       "4950                   0                  0                   0   \n",
       "4955                   0                  0                   0   \n",
       "\n",
       "     A.5_DikeIncrease 2 scenario    policy     model  \n",
       "2                     0        2  Policy 0  dikesnet  \n",
       "33                    0       33  Policy 0  dikesnet  \n",
       "56                    0       56  Policy 0  dikesnet  \n",
       "70                    0       70  Policy 0  dikesnet  \n",
       "117                   0      117  Policy 0  dikesnet  \n",
       "...                 ...      ...       ...       ...  \n",
       "4899                  0     4899  Policy 0  dikesnet  \n",
       "4924                  0     4924  Policy 0  dikesnet  \n",
       "4934                  0     4934  Policy 0  dikesnet  \n",
       "4950                  0     4950  Policy 0  dikesnet  \n",
       "4955                  0     4955  Policy 0  dikesnet  \n",
       "\n",
       "[280 rows x 53 columns]"
      ],
      "text/html": [
       "<div>\n",
       "<style scoped>\n",
       "    .dataframe tbody tr th:only-of-type {\n",
       "        vertical-align: middle;\n",
       "    }\n",
       "\n",
       "    .dataframe tbody tr th {\n",
       "        vertical-align: top;\n",
       "    }\n",
       "\n",
       "    .dataframe thead th {\n",
       "        text-align: right;\n",
       "    }\n",
       "</style>\n",
       "<table border=\"1\" class=\"dataframe\">\n",
       "  <thead>\n",
       "    <tr style=\"text-align: right;\">\n",
       "      <th></th>\n",
       "      <th>A.0_ID flood wave shape</th>\n",
       "      <th>A.1_Bmax</th>\n",
       "      <th>A.1_Brate</th>\n",
       "      <th>A.1_pfail</th>\n",
       "      <th>A.2_Bmax</th>\n",
       "      <th>A.2_Brate</th>\n",
       "      <th>A.2_pfail</th>\n",
       "      <th>A.3_Bmax</th>\n",
       "      <th>A.3_Brate</th>\n",
       "      <th>A.3_pfail</th>\n",
       "      <th>...</th>\n",
       "      <th>A.3_DikeIncrease 2</th>\n",
       "      <th>A.4_DikeIncrease 0</th>\n",
       "      <th>A.4_DikeIncrease 1</th>\n",
       "      <th>A.4_DikeIncrease 2</th>\n",
       "      <th>A.5_DikeIncrease 0</th>\n",
       "      <th>A.5_DikeIncrease 1</th>\n",
       "      <th>A.5_DikeIncrease 2</th>\n",
       "      <th>scenario</th>\n",
       "      <th>policy</th>\n",
       "      <th>model</th>\n",
       "    </tr>\n",
       "  </thead>\n",
       "  <tbody>\n",
       "    <tr>\n",
       "      <th>2</th>\n",
       "      <td>105</td>\n",
       "      <td>158.533238</td>\n",
       "      <td>10.0</td>\n",
       "      <td>0.537359</td>\n",
       "      <td>315.145762</td>\n",
       "      <td>1.0</td>\n",
       "      <td>0.343249</td>\n",
       "      <td>290.983221</td>\n",
       "      <td>1.0</td>\n",
       "      <td>0.213538</td>\n",
       "      <td>...</td>\n",
       "      <td>0</td>\n",
       "      <td>0</td>\n",
       "      <td>0</td>\n",
       "      <td>0</td>\n",
       "      <td>0</td>\n",
       "      <td>0</td>\n",
       "      <td>0</td>\n",
       "      <td>2</td>\n",
       "      <td>Policy 0</td>\n",
       "      <td>dikesnet</td>\n",
       "    </tr>\n",
       "    <tr>\n",
       "      <th>33</th>\n",
       "      <td>122</td>\n",
       "      <td>189.698330</td>\n",
       "      <td>1.0</td>\n",
       "      <td>0.682612</td>\n",
       "      <td>299.782340</td>\n",
       "      <td>1.0</td>\n",
       "      <td>0.708662</td>\n",
       "      <td>176.717249</td>\n",
       "      <td>10.0</td>\n",
       "      <td>0.335554</td>\n",
       "      <td>...</td>\n",
       "      <td>0</td>\n",
       "      <td>0</td>\n",
       "      <td>0</td>\n",
       "      <td>0</td>\n",
       "      <td>0</td>\n",
       "      <td>0</td>\n",
       "      <td>0</td>\n",
       "      <td>33</td>\n",
       "      <td>Policy 0</td>\n",
       "      <td>dikesnet</td>\n",
       "    </tr>\n",
       "    <tr>\n",
       "      <th>56</th>\n",
       "      <td>8</td>\n",
       "      <td>124.406106</td>\n",
       "      <td>10.0</td>\n",
       "      <td>0.564305</td>\n",
       "      <td>188.281947</td>\n",
       "      <td>1.5</td>\n",
       "      <td>0.363772</td>\n",
       "      <td>258.363480</td>\n",
       "      <td>10.0</td>\n",
       "      <td>0.238341</td>\n",
       "      <td>...</td>\n",
       "      <td>0</td>\n",
       "      <td>0</td>\n",
       "      <td>0</td>\n",
       "      <td>0</td>\n",
       "      <td>0</td>\n",
       "      <td>0</td>\n",
       "      <td>0</td>\n",
       "      <td>56</td>\n",
       "      <td>Policy 0</td>\n",
       "      <td>dikesnet</td>\n",
       "    </tr>\n",
       "    <tr>\n",
       "      <th>70</th>\n",
       "      <td>7</td>\n",
       "      <td>92.494983</td>\n",
       "      <td>10.0</td>\n",
       "      <td>0.695807</td>\n",
       "      <td>141.911870</td>\n",
       "      <td>10.0</td>\n",
       "      <td>0.761783</td>\n",
       "      <td>113.549535</td>\n",
       "      <td>10.0</td>\n",
       "      <td>0.034505</td>\n",
       "      <td>...</td>\n",
       "      <td>0</td>\n",
       "      <td>0</td>\n",
       "      <td>0</td>\n",
       "      <td>0</td>\n",
       "      <td>0</td>\n",
       "      <td>0</td>\n",
       "      <td>0</td>\n",
       "      <td>70</td>\n",
       "      <td>Policy 0</td>\n",
       "      <td>dikesnet</td>\n",
       "    </tr>\n",
       "    <tr>\n",
       "      <th>117</th>\n",
       "      <td>93</td>\n",
       "      <td>40.537874</td>\n",
       "      <td>1.5</td>\n",
       "      <td>0.712848</td>\n",
       "      <td>49.618879</td>\n",
       "      <td>1.5</td>\n",
       "      <td>0.547637</td>\n",
       "      <td>205.325470</td>\n",
       "      <td>1.0</td>\n",
       "      <td>0.425226</td>\n",
       "      <td>...</td>\n",
       "      <td>0</td>\n",
       "      <td>0</td>\n",
       "      <td>0</td>\n",
       "      <td>0</td>\n",
       "      <td>0</td>\n",
       "      <td>0</td>\n",
       "      <td>0</td>\n",
       "      <td>117</td>\n",
       "      <td>Policy 0</td>\n",
       "      <td>dikesnet</td>\n",
       "    </tr>\n",
       "    <tr>\n",
       "      <th>...</th>\n",
       "      <td>...</td>\n",
       "      <td>...</td>\n",
       "      <td>...</td>\n",
       "      <td>...</td>\n",
       "      <td>...</td>\n",
       "      <td>...</td>\n",
       "      <td>...</td>\n",
       "      <td>...</td>\n",
       "      <td>...</td>\n",
       "      <td>...</td>\n",
       "      <td>...</td>\n",
       "      <td>...</td>\n",
       "      <td>...</td>\n",
       "      <td>...</td>\n",
       "      <td>...</td>\n",
       "      <td>...</td>\n",
       "      <td>...</td>\n",
       "      <td>...</td>\n",
       "      <td>...</td>\n",
       "      <td>...</td>\n",
       "      <td>...</td>\n",
       "    </tr>\n",
       "    <tr>\n",
       "      <th>4899</th>\n",
       "      <td>11</td>\n",
       "      <td>122.316720</td>\n",
       "      <td>1.0</td>\n",
       "      <td>0.572786</td>\n",
       "      <td>114.275576</td>\n",
       "      <td>1.5</td>\n",
       "      <td>0.569826</td>\n",
       "      <td>139.651981</td>\n",
       "      <td>1.0</td>\n",
       "      <td>0.072716</td>\n",
       "      <td>...</td>\n",
       "      <td>0</td>\n",
       "      <td>0</td>\n",
       "      <td>0</td>\n",
       "      <td>0</td>\n",
       "      <td>0</td>\n",
       "      <td>0</td>\n",
       "      <td>0</td>\n",
       "      <td>4899</td>\n",
       "      <td>Policy 0</td>\n",
       "      <td>dikesnet</td>\n",
       "    </tr>\n",
       "    <tr>\n",
       "      <th>4924</th>\n",
       "      <td>101</td>\n",
       "      <td>281.165784</td>\n",
       "      <td>1.0</td>\n",
       "      <td>0.693964</td>\n",
       "      <td>42.142980</td>\n",
       "      <td>10.0</td>\n",
       "      <td>0.604134</td>\n",
       "      <td>141.749554</td>\n",
       "      <td>10.0</td>\n",
       "      <td>0.238004</td>\n",
       "      <td>...</td>\n",
       "      <td>0</td>\n",
       "      <td>0</td>\n",
       "      <td>0</td>\n",
       "      <td>0</td>\n",
       "      <td>0</td>\n",
       "      <td>0</td>\n",
       "      <td>0</td>\n",
       "      <td>4924</td>\n",
       "      <td>Policy 0</td>\n",
       "      <td>dikesnet</td>\n",
       "    </tr>\n",
       "    <tr>\n",
       "      <th>4934</th>\n",
       "      <td>33</td>\n",
       "      <td>43.823637</td>\n",
       "      <td>1.0</td>\n",
       "      <td>0.643488</td>\n",
       "      <td>303.542361</td>\n",
       "      <td>1.5</td>\n",
       "      <td>0.779226</td>\n",
       "      <td>299.602868</td>\n",
       "      <td>10.0</td>\n",
       "      <td>0.028695</td>\n",
       "      <td>...</td>\n",
       "      <td>0</td>\n",
       "      <td>0</td>\n",
       "      <td>0</td>\n",
       "      <td>0</td>\n",
       "      <td>0</td>\n",
       "      <td>0</td>\n",
       "      <td>0</td>\n",
       "      <td>4934</td>\n",
       "      <td>Policy 0</td>\n",
       "      <td>dikesnet</td>\n",
       "    </tr>\n",
       "    <tr>\n",
       "      <th>4950</th>\n",
       "      <td>114</td>\n",
       "      <td>80.309914</td>\n",
       "      <td>1.0</td>\n",
       "      <td>0.542835</td>\n",
       "      <td>179.860698</td>\n",
       "      <td>1.5</td>\n",
       "      <td>0.340880</td>\n",
       "      <td>92.264076</td>\n",
       "      <td>1.0</td>\n",
       "      <td>0.358026</td>\n",
       "      <td>...</td>\n",
       "      <td>0</td>\n",
       "      <td>0</td>\n",
       "      <td>0</td>\n",
       "      <td>0</td>\n",
       "      <td>0</td>\n",
       "      <td>0</td>\n",
       "      <td>0</td>\n",
       "      <td>4950</td>\n",
       "      <td>Policy 0</td>\n",
       "      <td>dikesnet</td>\n",
       "    </tr>\n",
       "    <tr>\n",
       "      <th>4955</th>\n",
       "      <td>61</td>\n",
       "      <td>91.994198</td>\n",
       "      <td>1.0</td>\n",
       "      <td>0.583565</td>\n",
       "      <td>51.555592</td>\n",
       "      <td>10.0</td>\n",
       "      <td>0.670247</td>\n",
       "      <td>203.122662</td>\n",
       "      <td>1.0</td>\n",
       "      <td>0.099706</td>\n",
       "      <td>...</td>\n",
       "      <td>0</td>\n",
       "      <td>0</td>\n",
       "      <td>0</td>\n",
       "      <td>0</td>\n",
       "      <td>0</td>\n",
       "      <td>0</td>\n",
       "      <td>0</td>\n",
       "      <td>4955</td>\n",
       "      <td>Policy 0</td>\n",
       "      <td>dikesnet</td>\n",
       "    </tr>\n",
       "  </tbody>\n",
       "</table>\n",
       "<p>280 rows × 53 columns</p>\n",
       "</div>"
      ]
     },
     "execution_count": 208,
     "metadata": {},
     "output_type": "execute_result"
    }
   ],
   "execution_count": 208,
   "source": [
    "# extract indices which satisfy the identified box\n",
    "indices = box.yi\n",
    "# filter experiments based on indices\n",
    "exp_filtered = experiments.iloc[indices]\n",
    "# show filtered experiments\n",
    "exp_filtered"
   ],
   "id": "26be5de263355463"
  },
  {
   "metadata": {},
   "cell_type": "code",
   "outputs": [],
   "execution_count": 209,
   "source": [
    "# save results\n",
    "save_results((exp_filtered, outcomes), './results/scenario_selection.tar.gz')"
   ],
   "id": "374e0727921cc3d7"
  }
 ],
 "metadata": {
  "kernelspec": {
   "display_name": "Python 3",
   "language": "python",
   "name": "python3"
  },
  "language_info": {
   "codemirror_mode": {
    "name": "ipython",
    "version": 2
   },
   "file_extension": ".py",
   "mimetype": "text/x-python",
   "name": "python",
   "nbconvert_exporter": "python",
   "pygments_lexer": "ipython2",
   "version": "2.7.6"
  }
 },
 "nbformat": 4,
 "nbformat_minor": 5
}
